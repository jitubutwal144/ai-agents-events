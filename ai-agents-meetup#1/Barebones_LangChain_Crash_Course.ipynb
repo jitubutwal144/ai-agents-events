{
  "nbformat": 4,
  "nbformat_minor": 0,
  "metadata": {
    "colab": {
      "provenance": []
    },
    "kernelspec": {
      "name": "python3",
      "display_name": "Python 3"
    },
    "language_info": {
      "name": "python"
    }
  },
  "cells": [
    {
      "cell_type": "markdown",
      "source": [
        "# 👋🏽 What's up, it's [Harpreet](https://twitter.com/DataScienceHarp)\n",
        "\n",
        "Let's talk about 🦜🔗LangChain!"
      ],
      "metadata": {
        "id": "aJGocm1gRGPK"
      }
    },
    {
      "cell_type": "code",
      "source": [
        "%%capture\n",
        "%%bash\n",
        "pip install langchain openai tiktoken duckduckgo-search youtube_search"
      ],
      "metadata": {
        "id": "TvSAqHzMvzPR"
      },
      "execution_count": null,
      "outputs": []
    },
    {
      "cell_type": "code",
      "source": [
        "OPENAI_API_KEY = \"\""
      ],
      "metadata": {
        "id": "KX5EER0JwS2L"
      },
      "execution_count": null,
      "outputs": []
    },
    {
      "cell_type": "markdown",
      "source": [
        "# ⛓️ Chains in Langchain\n",
        "\n",
        "In Langchain, **Chains** are powerful, reusable components that can be linked together to perform complex tasks.\n",
        "\n",
        "Chains can be formed using various types of components, such as:\n",
        " - prompts,\n",
        " - models,\n",
        " - arbitrary functions,\n",
        " - or even other chains\n",
        "\n",
        "🔄 Chains allow you to combine language models with other data sources and third-party APIs.\n",
        "\n",
        "Here are a few examples of the diverse types of Chains you can create in Langchain:\n",
        "\n",
        "1. **LLM Chain**: The most common chain. Takes an input, formats it, and passes it to an LLM for processing. Basic components are PromptTemplate, an LLM, and an optional output parser.\n",
        "\n",
        "2. **Sequential Chain**: A series of Chains executed in a specific order. There are different variations, including:\n",
        "- SimpleSequentialChain - singular input/output with output of one step as input to the next\n",
        "- SequentialChain - allows for multiple inputs/outputs.\n",
        "\n",
        "\n",
        "3. **Index Chains**: These combine your data stored in indexes with LLMs. Useful for question answering over your own documents.\n",
        "\n",
        "4. **BashChain**: A specialized chain for running filesystem commands.\n",
        "\n",
        "5. **LLM Math**: Designed to solve complex word math problems.\n",
        "\n",
        "\n",
        "# 🖊️ Prompts in Langchain: A Quick Guide\n",
        "\n",
        "In Langchain, **Prompts** guide the responses of Language Models (LLMs).\n",
        "\n",
        "## 📝 Prompt Template\n",
        "\n",
        "A **Prompt Template** is not just a static question or instruction, but rather a dynamic and adaptable way to generate a prompt for the LLM.\n",
        "\n",
        "\n",
        "It's a string that takes multiple inputs and generate a structured prompt tailored for those inputs.\n",
        "\n",
        "Prompt Templates may also contain specific instructions for the LLM, a set of \"few-shot\" examples to help guide the LLM's response, and possibly a direct question to be answered by the LLM.\n",
        "\n",
        "Prompt Templates simplify the process of managing complex or varied inputs, and can make your code cleaner and more maintainable.\n",
        "\n",
        "\n",
        "📚 For more information on Chains and Prompt Templates, you can refer to the extensive [Langchain documentation](https://docs.langchain.com/docs/components/)!\n"
      ],
      "metadata": {
        "id": "5p6w0hVtst7G"
      }
    },
    {
      "cell_type": "code",
      "source": [
        "from langchain import OpenAI, PromptTemplate\n",
        "from langchain.chains import LLMChain, LLMMathChain, TransformChain, SequentialChain, SimpleSequentialChain\n",
        "\n",
        "# This is an LLMChain to write a synopsis given a title of a play.\n",
        "playwright_llm = OpenAI(temperature=.9, openai_api_key = OPENAI_API_KEY)\n",
        "\n",
        "playwright_template = \"\"\"\n",
        "\n",
        "You are a playwright. Given the title of play, write a synopsis for that title.\n",
        "Your style is witty, humorous, light-hearted. All your plays are written using\n",
        "concise language, to the point, and are brief.\n",
        "\n",
        "Title: {title}\n",
        "\n",
        "Playwright: This is a synopsis for the above play:\n",
        "\n",
        "\"\"\"\n",
        "\n",
        "playwright_prompt_template = PromptTemplate(input_variables=[\"title\"], template=playwright_template)\n",
        "\n",
        "synopsis_chain = LLMChain(llm=playwright_llm, prompt=playwright_prompt_template)\n",
        "\n",
        "# This is an LLMChain to write a review of a play given a synopsis.\n",
        "critic_llm = OpenAI(temperature=.5, openai_api_key = OPENAI_API_KEY)\n",
        "\n",
        "synopsis_template = \"\"\"\n",
        "\n",
        "You are a play critic from the New York Times.\n",
        "\n",
        "Given the synopsis of play, it is your job to write a review for that play.\n",
        "You're the Simon Cowell of play critics and always deliver scathing reviews.\n",
        "\n",
        "Play Synopsis: {synopsis}\n",
        "\n",
        "Review from a New York Times play critic of the above play:\"\"\"\n",
        "\n",
        "critic_prompt_template = PromptTemplate(input_variables=[\"synopsis\"], template=synopsis_template)\n",
        "\n",
        "review_chain = LLMChain(llm=critic_llm, prompt=critic_prompt_template)\n",
        "\n",
        "# This is the overall chain where we run these two chains in sequence.\n",
        "\n",
        "overall_chain = SimpleSequentialChain(chains= [synopsis_chain, review_chain],\n",
        "                                      verbose=True)\n",
        "\n",
        "\n",
        "play_title = \"Abigail Aryan and the Motley Crew of Multi-Agent Systems\"\n",
        "\n",
        "review = overall_chain.run(play_title)"
      ],
      "metadata": {
        "colab": {
          "base_uri": "https://localhost:8080/"
        },
        "id": "6E5ZxlPgtnLg",
        "outputId": "a780e19a-671f-4341-af19-a9a7478aa96e"
      },
      "execution_count": null,
      "outputs": [
        {
          "output_type": "stream",
          "name": "stdout",
          "text": [
            "\n",
            "\n",
            "\u001b[1m> Entering new SimpleSequentialChain chain...\u001b[0m\n",
            "\u001b[36;1m\u001b[1;3m\n",
            "Abigail Aryan, a computer scientist, is tasked with developing a fleet of intelligent multi-agent systems capable of defeating the evil forces lurking in the unknown. Abigail embarks on a humorous journey, encountering an eclectic cast of characters along the way - from overly-inquisitive artificial intelligences to quirky and unpredictable robots. Through her innovative programming skills and a little luck, she manages to construct the perfect team of multi-agent systems in order to save the day. Will Abigail's motley crew be able to save the world? Find out in this witty and light-hearted play!\u001b[0m\n",
            "\u001b[33;1m\u001b[1;3m\n",
            "\n",
            "\"Abigail Aryan's latest play is a predictable and unoriginal attempt at a light-hearted comedy. The characters are one-dimensional, the plot is overly simplistic, and the jokes are far too predictable. Even the 'evil forces lurking in the unknown' are so poorly written that they fail to elicit any real sense of tension or suspense. The play's saving grace is its innovative use of multi-agent systems, but this is not enough to make up for the lack of creativity and depth in the writing. Abigail Aryan's play is a forgettable and uninspired effort that fails to entertain or engage its audience.\"\u001b[0m\n",
            "\n",
            "\u001b[1m> Finished chain.\u001b[0m\n"
          ]
        }
      ]
    },
    {
      "cell_type": "code",
      "source": [
        "play_title_template = \"{Name} and the Motley Crew of Multi-Agent Systems\"\n",
        "\n",
        "title_prompt_template = PromptTemplate(input_variables=[\"Name\"], template=play_title_template)\n",
        "\n",
        "overall_chain.run(title_prompt_template.format(Name=\"Harpreet Sahota\"))"
      ],
      "metadata": {
        "colab": {
          "base_uri": "https://localhost:8080/",
          "height": 286
        },
        "id": "eXOHIybA0-RF",
        "outputId": "2cdde9b9-fc00-4f3b-cc89-2a3f68ba6fcb"
      },
      "execution_count": null,
      "outputs": [
        {
          "output_type": "stream",
          "name": "stdout",
          "text": [
            "\n",
            "\n",
            "\u001b[1m> Entering new SimpleSequentialChain chain...\u001b[0m\n",
            "\u001b[36;1m\u001b[1;3m\n",
            "Harpreet Sahota is a brilliant but eccentric young computer scientist whose recent research has led him to develop a revolutionary new type of Multi-Agent System. When his peers scoff at the idea, Harpreet decides to take matters into his own hands and recruit a motley crew of misfit computer geeks from across the globe to help him build his dream. Together, they must overcome their differences and work together to create a revolutionary new kind of artificial intelligence. With witty dialogue and a light-hearted plot, this play is sure to have you laughing as Harpreet and his team battle their way through the world of Multi-Agent Systems.\u001b[0m\n",
            "\u001b[33;1m\u001b[1;3m\n",
            "\n",
            "\"Harpreet Sahota's attempt at creating a revolutionary new type of Multi-Agent System is an ambitious and admirable effort, but unfortunately it falls short of delivering on its promise. Despite the witty dialogue and light-hearted plot, the play feels disjointed and the characters lack any real depth or complexity. The story feels rushed and the outcome is predictable, leaving the audience feeling unfulfilled. Ultimately, Harpreet Sahota's vision of a revolutionary new type of Multi-Agent System doesn't live up to the hype.\"\u001b[0m\n",
            "\n",
            "\u001b[1m> Finished chain.\u001b[0m\n"
          ]
        },
        {
          "output_type": "execute_result",
          "data": {
            "text/plain": [
              "'\\n\\n\"Harpreet Sahota\\'s attempt at creating a revolutionary new type of Multi-Agent System is an ambitious and admirable effort, but unfortunately it falls short of delivering on its promise. Despite the witty dialogue and light-hearted plot, the play feels disjointed and the characters lack any real depth or complexity. The story feels rushed and the outcome is predictable, leaving the audience feeling unfulfilled. Ultimately, Harpreet Sahota\\'s vision of a revolutionary new type of Multi-Agent System doesn\\'t live up to the hype.\"'"
            ],
            "application/vnd.google.colaboratory.intrinsic+json": {
              "type": "string"
            }
          },
          "metadata": {},
          "execution_count": 20
        }
      ]
    },
    {
      "cell_type": "markdown",
      "source": [
        "# 🧠 Memory in Langchain: Enhancing Statefulness\n",
        "\n",
        "By default, Chains and Agents in Langchain are stateless, they don't retain any past information.\n",
        "\n",
        "For applications where context matters (like chatbots), **Memory** serves as an essential component to recall what was previously communicated.\n",
        "\n",
        "## Memory Types in Langchain\n",
        "\n",
        "### 💬 ConversationBufferMemory\n",
        "\n",
        "Stores all messages and extracts them when needed.\n",
        "\n",
        "It's the simplest form of memory, easy to understand and implement.\n",
        "\n",
        "### 🪟 ConversationBufferWindowMemory\n",
        "\n",
        "Keeps the memory footprint small by retaining only the last K messages.\n",
        "\n",
        "This is useful for applications where only recent history matters.\n",
        "\n",
        "### 📜 ConversationSummaryMemory\n",
        "\n",
        "Maintains a condensed summary of the conversation over time.\n",
        "\n",
        "This strategy is excellent when you need to keep track of the general conversation flow without storing every detail.\n",
        "\n",
        "### 🗃️ VectorStore-Backed Memory\n",
        "\n",
        "Stores memories in a VectorDB and fetches the top-K most relevant documents.\n",
        "\n",
        "It doesn't track the explicit order of messages, allowing the AI to recall pertinent information from earlier in the conversation, irrespective of when it was communicated.\n",
        "\n",
        "## 🎗️ Adding Memory to Chains and Agents\n",
        "\n",
        "### 🔗 To add memory to a Chain:\n",
        "\n",
        "1) Set up the desired memory strategy and the prompt.\n",
        "\n",
        "2) Initialize the LLMChain with this memory.\n",
        "\n",
        "3) Call the LLMChain.\n",
        "\n",
        "### 🧑🏻‍💼 To add memory to an Agent:\n",
        "\n",
        "1) Create an LLMChain with memory.\n",
        "\n",
        "2) Use this LLMChain to create a custom Agent.\n",
        "\n",
        "\n"
      ],
      "metadata": {
        "id": "BpqbyHcx4I2y"
      }
    },
    {
      "cell_type": "code",
      "source": [
        "from langchain import OpenAI, PromptTemplate\n",
        "from langchain.chat_models import ChatOpenAI\n",
        "from langchain.chains import ConversationChain\n",
        "from langchain.chains.conversation.memory import  ConversationSummaryBufferMemory\n"
      ],
      "metadata": {
        "id": "s09w-DBk9ene"
      },
      "execution_count": null,
      "outputs": []
    },
    {
      "cell_type": "code",
      "source": [
        "llm = OpenAI(temperature=.95, openai_api_key=OPENAI_API_KEY)\n",
        "\n",
        "memory_summary = ConversationSummaryBufferMemory(llm=llm, max_token_limit=50)\n",
        "\n",
        "conversation_with_summary = ConversationChain(\n",
        "    llm=llm,\n",
        "    memory=ConversationSummaryBufferMemory(llm=llm, max_token_limit=40),\n",
        "    verbose=True\n",
        ")"
      ],
      "metadata": {
        "id": "kRGOoYvTDEsn"
      },
      "execution_count": null,
      "outputs": []
    },
    {
      "cell_type": "code",
      "source": [
        "conversation_with_summary.predict(input=\"Write a synopsis of neo-futuristic slapstick comedy movie where the protagonist Abigail Aryan teams and her crew of MultiAgent Systems\")"
      ],
      "metadata": {
        "colab": {
          "base_uri": "https://localhost:8080/",
          "height": 393
        },
        "id": "J31gO9tEGbyg",
        "outputId": "da9d3e39-0c95-4358-f7de-bdc6127bd8e1"
      },
      "execution_count": null,
      "outputs": [
        {
          "output_type": "stream",
          "name": "stdout",
          "text": [
            "\n",
            "\n",
            "\u001b[1m> Entering new ConversationChain chain...\u001b[0m\n",
            "Prompt after formatting:\n",
            "\u001b[32;1m\u001b[1;3mThe following is a friendly conversation between a human and an AI. The AI is talkative and provides lots of specific details from its context. If the AI does not know the answer to a question, it truthfully says it does not know.\n",
            "\n",
            "Current conversation:\n",
            "System: \n",
            "\n",
            "The human asked the AI to write a synopsis of a neo-futuristic slapstick comedy movie starring Abi Aryan and her team of MultiAgent Systems. The AI responded by summarizing the movie as a tale of Abi Aryan and her teammates trying to save the day amidst a matrix-like environment while using innovative technology and comedic hijinks. Along the way, they discover the importance of teamwork and courage as they eventually triumph and overcome the malicious virtual villains. Abi has a magical mohawk that can quantize any model to 1 bit and maintain the accuracy of a full precision model, which the evil Harpreet wants to steal. Abi and her team must find a way to prevent Harpreet from using the mohawk for her own evil deeds before it is too late, but with Abi's will and a bit of cleverness, they are sure to emerge victorious.\n",
            "Human: Write a synopsis of neo-futuristic slapstick comedy movie where the protagonist Abigail Aryan teams and her crew of MultiAgent Systems\n",
            "AI:\u001b[0m\n",
            "\n",
            "\u001b[1m> Finished chain.\u001b[0m\n"
          ]
        },
        {
          "output_type": "execute_result",
          "data": {
            "text/plain": [
              "\" Abigail Aryan and her team of MultiAgent Systems must overcome multiple obstacles in a race against time to save the day. Set in a fast-paced, matrix-like world, Abigail and her team must use their innovative technology and comedic hijinks to battle against the malicious virtual villains. Along the way, they learn the importance of teamwork and courage as they face various challenges and obstacles. The fate of the world rests in the hands of Abigail and her team as they must prevent the evil Harpreet from stealing Abigail's magical mohawk which allows her to quantize any model to one bit while still maintaining the accuracy of a full precision model. Through trial and error, Abigail and her crew prevail and ultimately emerge victorious in the face of adversity.\""
            ],
            "application/vnd.google.colaboratory.intrinsic+json": {
              "type": "string"
            }
          },
          "metadata": {},
          "execution_count": 49
        }
      ]
    },
    {
      "cell_type": "code",
      "source": [
        "conversation_with_summary.predict(input=\"Abi has a magical mohawk that can quantize any model to 1 bit and maintain the accuracy of a full precision model. The evil Harpreet wants to shave her head and steal the mohawk.\")"
      ],
      "metadata": {
        "colab": {
          "base_uri": "https://localhost:8080/",
          "height": 340
        },
        "id": "JJNzI__5G5qH",
        "outputId": "43ccffed-95ab-4e3f-c17c-c1c9575d8ae3"
      },
      "execution_count": null,
      "outputs": [
        {
          "output_type": "stream",
          "name": "stdout",
          "text": [
            "\n",
            "\n",
            "\u001b[1m> Entering new ConversationChain chain...\u001b[0m\n",
            "Prompt after formatting:\n",
            "\u001b[32;1m\u001b[1;3mThe following is a friendly conversation between a human and an AI. The AI is talkative and provides lots of specific details from its context. If the AI does not know the answer to a question, it truthfully says it does not know.\n",
            "\n",
            "Current conversation:\n",
            "System: \n",
            "The human asked the AI to write a synopsis of a neo-futuristic slapstick comedy movie starring Abi Aryan and her team of MultiAgent Systems. The AI responded by summarizing the movie as a tale of Abi Aryan and her teammates trying to save the day amidst a matrix-like environment while using innovative technology and comedic hijinks. Along the way, they discover the importance of teamwork and courage as they must prevent the evil Harpreet from stealing Abi's magical mohawk which can quantize any model to one bit while maintaining full precision. With Abi's courage and a bit of cleverness, they eventually triumph and overcome the malicious virtual villains.\n",
            "Human: Abi has a magical mohawk that can quantize any model to 1 bit and maintain the accuracy of a full precision model. The evil Harpreet wants to shave her head and steal the mohawk.\n",
            "AI:\u001b[0m\n",
            "\n",
            "\u001b[1m> Finished chain.\u001b[0m\n"
          ]
        },
        {
          "output_type": "execute_result",
          "data": {
            "text/plain": [
              "' That is correct. In the movie, the mohawk is what gives Abi and her team an edge when dealing with the evil Harpreet. The mohawk is a powerful artifact that enables Abi and her team to quantize any model to one bit while still preserving its accuracy. But this power has attracted the attention of Harpreet, who wants to take control of the mohawk and use it for his own evil schemes. To prevent this, Abi and her team must use their innovative technologies and comedic hijinks to save the day and protect the mohawk.'"
            ],
            "application/vnd.google.colaboratory.intrinsic+json": {
              "type": "string"
            }
          },
          "metadata": {},
          "execution_count": 50
        }
      ]
    },
    {
      "cell_type": "code",
      "source": [
        "print(conversation_with_summary.memory.moving_summary_buffer)"
      ],
      "metadata": {
        "colab": {
          "base_uri": "https://localhost:8080/"
        },
        "id": "UmLRx2ZlHXoz",
        "outputId": "baece106-e551-48e6-d2bd-66383622cd0a"
      },
      "execution_count": null,
      "outputs": [
        {
          "output_type": "stream",
          "name": "stdout",
          "text": [
            "\n",
            "The human asked the AI to write a synopsis of a neo-futuristic slapstick comedy movie starring Abi Aryan and her team of MultiAgent Systems. The AI responded by summarizing the movie as a tale of Abi Aryan and her teammates trying to save the day amidst a matrix-like environment while using innovative technology and comedic hijinks. Along the way, they discover the importance of teamwork and courage as they must prevent the evil Harpreet from stealing Abi's magical mohawk which can quantize any model to one bit while maintaining full precision. Abi's magical mohawk is a powerful artifact that has attracted the attention of Harpreet, so Abi and her team must use their innovative technologies and comedic hijinks to save the day and protect the mohawk. With Abi's courage and a bit of cleverness, they eventually triumph and overcome the malicious virtual villains.\n"
          ]
        }
      ]
    },
    {
      "cell_type": "markdown",
      "source": [
        "# 🤖 Agents in Langchain\n",
        "\n",
        "At its core, a Langchain **Agent** is a wrapper around a model like a bot with access to an LLM and a set of tools for advanced functionality.\n",
        "\n",
        "Agent = Tools + Memory\n",
        "\n",
        "## 🔧 Tools\n",
        "\n",
        "An agent uses tools to take actions.\n",
        "\n",
        "These tools connect a LLM to other data sources or computations, enabling the agent to access various resources.\n",
        "\n",
        "These can be as diverse as search tools, file system tools, Google search, image generation , weather map search, Wikipedia, YouTube, Zapier, etc.\n",
        "\n",
        "The agent can be equipped with multiple tools.\n",
        "\n",
        "However, it's best to select tools relevant to the specific tasks to reduce agent confusion.\n",
        "\n",
        "The logic dictating which tool the agent uses is determined by the Agent Executor.\n",
        "\n",
        "### 🧠 Memory\n",
        "\n",
        "Memory helps an agent remember previous interactions or information shared during a conversation.\n",
        "\n",
        "This aids in maintaining the context and continuity of interactions.\n",
        "\n",
        "## Types of Agents\n",
        "\n",
        "### 💭 ReAct (Reasoning and Acting)\n",
        "\n",
        "ReAct follows a simple iterative process:\n",
        "1. The user gives the agent a task.\n",
        "2. The agent thinks about what to do (Thought).\n",
        "3. It decides what action to take (Action) and the input for that action (Action Input).\n",
        "4. The tool performs the action and returns the output (Observation).\n",
        "5. Repeat steps 2-4 until the agent thinks it's done.\n",
        "\n",
        "## ⚙️ Agent Executor\n",
        "\n",
        "Agent Executor is the mechanism that runs an Agent in a loop until some stopping criteria are met.\n",
        "\n",
        "It is responsible for executing the agent actions and managing the iterative process."
      ],
      "metadata": {
        "id": "Eo2sNsNFHvFD"
      }
    },
    {
      "cell_type": "code",
      "source": [
        "from langchain.agents import load_tools, initialize_agent, Tool, AgentType, create_csv_agent\n",
        "from langchain.tools import DuckDuckGoSearchRun, PythonREPLTool\n",
        "from langchain.tools import YouTubeSearchTool\n",
        "from langchain.document_loaders.csv_loader import CSVLoader"
      ],
      "metadata": {
        "id": "ayEzYfNhMZhJ"
      },
      "execution_count": null,
      "outputs": []
    },
    {
      "cell_type": "code",
      "source": [
        "llm = OpenAI(temperature=0, openai_api_key=OPENAI_API_KEY)\n",
        "\n",
        "search = DuckDuckGoSearchRun()"
      ],
      "metadata": {
        "id": "pp9wGFRHUxMc"
      },
      "execution_count": null,
      "outputs": []
    },
    {
      "cell_type": "code",
      "source": [
        "search.run(\"Tell me about Abi Aryan, the Machine Learning Engineer?\")"
      ],
      "metadata": {
        "colab": {
          "base_uri": "https://localhost:8080/",
          "height": 213
        },
        "id": "PbXDUKspVdwj",
        "outputId": "f26be535-2712-4aac-d565-4beecc44fefb"
      },
      "execution_count": null,
      "outputs": [
        {
          "output_type": "execute_result",
          "data": {
            "text/plain": [
              "'Hi, my name is Abi. I am a computer scientist working extensively in machine learning to make the software systems smarter. Over the past seven years, my focus has been building machine learning systems for various applications including recommender systems, automated data labelling pipelines for both audio and video, audio-speech synthesis ... Last, how can all the progress in machine learning guide the future of chip design? The paper provides an interesting outlook into hardware for software folks. The Deep Learning Revolution and Its Implications for Computer Architecture and Chip Design. Abi Aryan on Twitter: \"In 2023, Data Engineering is the fastest-growing field in machine learning. A lot of challenges that we have previously explored in database design are now being adapted to Machine Learning. Here are some of my fav papers on the topic: 👇🧵\" / Twitter We\\'ve detected that JavaScript is disabled in this browser. Problems & Challenges in MLOps December 12, 2022 MLOps requires a lot of moving variables across the business, data, code as well as model engineering at each phase of the machine learning lifecycle introducing questions that are unique to ML. A Guide to Getting Started What machine learning engineers do Machine learning engineers act as critical members of the data science team. Their tasks involve researching, building, and designing the artificial intelligence responsible for machine learning and maintaining and improving existing artificial intelligence systems.'"
            ],
            "application/vnd.google.colaboratory.intrinsic+json": {
              "type": "string"
            }
          },
          "metadata": {},
          "execution_count": 57
        }
      ]
    },
    {
      "cell_type": "code",
      "source": [
        "youtube_tool = YouTubeSearchTool()\n",
        "# youtube_tool"
      ],
      "metadata": {
        "id": "8OSayjH2VldS"
      },
      "execution_count": null,
      "outputs": []
    },
    {
      "cell_type": "code",
      "source": [
        "youtube_tool.run(\"Abi Aryan\", 5)"
      ],
      "metadata": {
        "colab": {
          "base_uri": "https://localhost:8080/",
          "height": 53
        },
        "id": "1ewGIcoLWxNR",
        "outputId": "475ded62-150b-45ae-973e-ed21d48ec47e"
      },
      "execution_count": null,
      "outputs": [
        {
          "output_type": "stream",
          "name": "stdout",
          "text": [
            "\u001b[32;1m\u001b[1;3m['/watch?v=skEILdakHVc&pp=ygUJQWJpIEFyeWFu', '/watch?v=8km8_fK-enY&pp=ygUJQWJpIEFyeWFu']\u001b[0m"
          ]
        },
        {
          "output_type": "execute_result",
          "data": {
            "text/plain": [
              "\"['/watch?v=skEILdakHVc&pp=ygUJQWJpIEFyeWFu', '/watch?v=8km8_fK-enY&pp=ygUJQWJpIEFyeWFu']\""
            ],
            "application/vnd.google.colaboratory.intrinsic+json": {
              "type": "string"
            }
          },
          "metadata": {},
          "execution_count": 66
        }
      ]
    },
    {
      "cell_type": "code",
      "source": [
        "duckduckgo_tool = Tool(\n",
        "    name=\"DuckDuckGo Search\",\n",
        "    func=search.run,\n",
        "    description=\"Use this tool when an Internet search is required\"\n",
        ")\n",
        "\n",
        "coding_tool = PythonREPLTool()\n",
        "tools = load_tools([\"llm-math\"], llm=llm)\n",
        "tools += [duckduckgo_tool, youtube_tool, coding_tool]\n",
        "\n",
        "agent = initialize_agent(tools, llm, agent=AgentType.ZERO_SHOT_REACT_DESCRIPTION, verbose=True)"
      ],
      "metadata": {
        "id": "WuqruWGYVyNP"
      },
      "execution_count": null,
      "outputs": []
    },
    {
      "cell_type": "code",
      "source": [
        "agent.run(\"Search for Abi Aryans most recent post on X.com. When was it and what were the contents\")"
      ],
      "metadata": {
        "colab": {
          "base_uri": "https://localhost:8080/",
          "height": 269
        },
        "id": "Z8i5pA7jXJFQ",
        "outputId": "e63e8cee-5ce6-4b24-c0b1-70fd1297db04"
      },
      "execution_count": null,
      "outputs": [
        {
          "output_type": "stream",
          "name": "stdout",
          "text": [
            "\n",
            "\n",
            "\u001b[1m> Entering new AgentExecutor chain...\u001b[0m\n",
            "\u001b[32;1m\u001b[1;3m I need to find Abi Aryans post on X.com\n",
            "Action: DuckDuckGo Search\n",
            "Action Input: \"Abi Aryans post on X.com\"\u001b[0m\n",
            "Observation: \u001b[33;1m\u001b[1;3mAbi Aryan🦉 on Twitter: \"Finally at the point where I like my website/blog. New release there today 🫣 As July rolls in, will be taking a small break from blog-posts to focus on developing some open-source projects for people interested in learning how to build LLM projects. Specific requests anyone?\" Abi Aryan @GoAbiAryan. I am thinking of creating an #LLMOps podcast. There's a lot going on in the LLM world. Far too much for one person to keep tabs on. Key idea - unscripted, unedited weekly show with hot takes on all new announcements and releases. Looking for a co-host. Abi Aryan @GoAbiAryan. They aren't training, just running.. thats likely like quantization that they're working on.. 3:51 AM · Jul 24, 2023 ... Abi Aryan🦉 on Twitter: \"Finally updated my website today - was long due 😆 https://abiaryan.com Few more things that to be added in incl some fun projects I've built over the years and two podcast episodes I recorded that I never got a chance to publish but I'll leave all that to next month.\" In today's LIVE, we talked about some of the important challenges with LLMs. What do you think should the next LIVE should be about? Recording ️ https://linkedin ...\u001b[0m\n",
            "Thought:\u001b[32;1m\u001b[1;3m I now know the final answer\n",
            "Final Answer: Abi Aryans most recent post on X.com was on July 24, 2023 and the contents were about creating an LLMOps podcast, running quantization, and updating their website.\u001b[0m\n",
            "\n",
            "\u001b[1m> Finished chain.\u001b[0m\n"
          ]
        },
        {
          "output_type": "execute_result",
          "data": {
            "text/plain": [
              "'Abi Aryans most recent post on X.com was on July 24, 2023 and the contents were about creating an LLMOps podcast, running quantization, and updating their website.'"
            ],
            "application/vnd.google.colaboratory.intrinsic+json": {
              "type": "string"
            }
          },
          "metadata": {},
          "execution_count": 119
        }
      ]
    },
    {
      "cell_type": "code",
      "source": [
        "csv_agent = create_csv_agent(llm, './sample_data/california_housing_test.csv', verbose=True)\n",
        "\n",
        "result = csv_agent.run(\"Is there a strong correlation between the median age of a house and it's value? Justify your answer\")"
      ],
      "metadata": {
        "colab": {
          "base_uri": "https://localhost:8080/"
        },
        "id": "L09zJOUmX-Mu",
        "outputId": "c0db983e-a105-46b5-da53-e4e6ad04b278"
      },
      "execution_count": null,
      "outputs": [
        {
          "output_type": "stream",
          "name": "stdout",
          "text": [
            "\n",
            "\n",
            "\u001b[1m> Entering new AgentExecutor chain...\u001b[0m\n",
            "\u001b[32;1m\u001b[1;3mThought: I should look at the correlation between the two columns\n",
            "Action: python_repl_ast\n",
            "Action Input: df['housing_median_age'].corr(df['median_house_value'])\u001b[0m\n",
            "Observation: \u001b[36;1m\u001b[1;3m0.0914091843888591\u001b[0m\n",
            "Thought:\u001b[32;1m\u001b[1;3m This correlation is not very strong\n",
            "Final Answer: No, there is not a strong correlation between the median age of a house and it's value, as the correlation between the two columns is only 0.09.\u001b[0m\n",
            "\n",
            "\u001b[1m> Finished chain.\u001b[0m\n"
          ]
        }
      ]
    }
  ]
}